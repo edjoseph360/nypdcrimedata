{
 "cells": [
  {
   "cell_type": "code",
   "execution_count": 1,
   "metadata": {},
   "outputs": [],
   "source": [
    "from flask import Flask, render_template, redirect\n",
    "from flask_pymongo import PyMongo\n",
    "import urllib.request\n",
    "import json "
   ]
  },
  {
   "cell_type": "code",
   "execution_count": 2,
   "metadata": {},
   "outputs": [],
   "source": [
    "# Create an instance of Flask\n",
    "app = Flask(__name__)\n",
    "\n",
    "# Use PyMongo to establish Mongo connection\n",
    "mongo = PyMongo(app, uri=\"mongodb://localhost:27017/nypdcrime\")"
   ]
  },
  {
   "cell_type": "code",
   "execution_count": 3,
   "metadata": {},
   "outputs": [],
   "source": [
    "data = \"\"\n",
    "with urllib.request.urlopen(\"https://data.cityofnewyork.us/resource/uip8-fykc.json\") as url:\n",
    "    data = json.loads(url.read().decode())"
   ]
  },
  {
   "cell_type": "code",
   "execution_count": 4,
   "metadata": {},
   "outputs": [
    {
     "data": {
      "text/plain": [
       "{'arrest_key': '206882030',\n",
       " 'arrest_date': '2019-12-31T00:00:00.000',\n",
       " 'pd_cd': '339',\n",
       " 'pd_desc': 'LARCENY,PETIT FROM OPEN AREAS,',\n",
       " 'ky_cd': '341.0',\n",
       " 'ofns_desc': 'PETIT LARCENY',\n",
       " 'law_code': 'PL 1552500',\n",
       " 'law_cat_cd': 'M',\n",
       " 'arrest_boro': 'M',\n",
       " 'arrest_precinct': '24',\n",
       " 'jurisdiction_code': '0',\n",
       " 'age_group': '45-64',\n",
       " 'perp_sex': 'M',\n",
       " 'perp_race': 'BLACK',\n",
       " 'x_coord_cd': '991075',\n",
       " 'y_coord_cd': '227074',\n",
       " 'latitude': '40.78994739900003',\n",
       " 'longitude': '-73.97535415699997'}"
      ]
     },
     "execution_count": 4,
     "metadata": {},
     "output_type": "execute_result"
    }
   ],
   "source": [
    "data[0]"
   ]
  },
  {
   "cell_type": "code",
   "execution_count": 5,
   "metadata": {},
   "outputs": [],
   "source": [
    "main_db=mongo.db.nypdcrime"
   ]
  },
  {
   "cell_type": "code",
   "execution_count": 6,
   "metadata": {},
   "outputs": [],
   "source": [
    "example_data = data[0]\n",
    "#for data in data:\n",
    " #   example_data.append(data)"
   ]
  },
  {
   "cell_type": "code",
   "execution_count": 7,
   "metadata": {},
   "outputs": [],
   "source": [
    "for x in data:\n",
    "    main_db.insert_one(x)"
   ]
  },
  {
   "cell_type": "code",
   "execution_count": null,
   "metadata": {},
   "outputs": [],
   "source": []
  },
  {
   "cell_type": "code",
   "execution_count": null,
   "metadata": {},
   "outputs": [],
   "source": []
  }
 ],
 "metadata": {
  "kernelspec": {
   "display_name": "Python 3",
   "language": "python",
   "name": "python3"
  },
  "language_info": {
   "codemirror_mode": {
    "name": "ipython",
    "version": 3
   },
   "file_extension": ".py",
   "mimetype": "text/x-python",
   "name": "python",
   "nbconvert_exporter": "python",
   "pygments_lexer": "ipython3",
   "version": "3.7.4"
  }
 },
 "nbformat": 4,
 "nbformat_minor": 2
}
